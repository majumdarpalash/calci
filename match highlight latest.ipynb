{
 "cells": [
  {
   "cell_type": "code",
   "execution_count": null,
   "metadata": {},
   "outputs": [
    {
     "name": "stdout",
     "output_type": "stream",
     "text": [
      "resource open\n"
     ]
    }
   ],
   "source": [
    "from moviepy import video\n",
    "from moviepy.editor import *\n",
    "from multiprocessing import Process, Semaphore\n",
    "import sys\n",
    "import soundfile as sf\n",
    "import pyloudnorm as pyln\n",
    "import pandas as pd\n",
    "import os\n",
    "from moviepy.editor import VideoFileClip, concatenate_videoclips\n",
    "\n",
    "def break_files():\n",
    "     try:\n",
    "          print(\"resource open\")\n",
    "          k=input(\"enter the elements\")\n",
    "          print(k)\n",
    "          clip = VideoFileClip(r\"C:\\Users\\ADMIN\\Downloads\\tennismatch.mp4\")\n",
    "          duration_clip=clip.duration\n",
    "          print(duration_clip)\n",
    "     except FileNotFoundError as err:\n",
    "          print(\"no such file name and directory\", err)\n",
    "     df = pd.read_csv(r\"C:\\Users\\ADMIN\\Desktop\\book1.csv\")\n",
    "     num = 0\n",
    "     for ind in df.index:\n",
    "          #print(df['start time'][ind], df['end time'][ind])\n",
    "          clip = VideoFileClip(r\"C:\\Users\\ADMIN\\Downloads\\tennismatch.mp4\").subclip(df['start time'][ind], df['end time'][ind])\n",
    "          #'{}_'.format(str(num).zfill(3))\n",
    "          clip.write_videofile(r\"C:\\Users\\ADMIN\\Desktop\\tennispath\\broken_files\\output_%s.mp4\" % num)\n",
    "          clip.audio.write_audiofile(r\"C:\\Users\\ADMIN\\Desktop\\tennispath\\broken_files\\output_%s.wav\" % num)\n",
    "          num += 1\n",
    "\n",
    "break_files()\n",
    "directory = r\"C:\\Users\\ADMIN\\Desktop\\tennispath\\broken_files\"\n",
    "dict1 = {}\n",
    "try:\n",
    "     print(\"new resources open\")\n",
    "\n",
    "     for filename in os.listdir(directory):\n",
    "         if filename.endswith(\".wav\"):\n",
    "              path = os.path.join(directory,filename)\n",
    "              data, rate = sf.read(path)  # load audio (with shape (samples, channels))\n",
    "              meter = pyln.Meter(rate)  # create BS.1770 meter\n",
    "              loudness = meter.integrated_loudness(data)  # measure loudness\n",
    "              dict_key=filename.split(\".\")[0] + \".mp4\"\n",
    "              dict1[dict_key] = loudness\n",
    "              #print(loudness)\n",
    "     #print(dict1)\n",
    "     list1 = sorted(dict1.items(), key=lambda kv: (kv[1], kv[0]),reverse=True)\n",
    "     list1=list1[:3]\n",
    "     print(list1)\n",
    "\n",
    "\n",
    "     list2=[]\n",
    "     for i in list1:\n",
    "          list2.append(i[0])\n",
    "     list2=sorted(list2)\n",
    "     print(list2)\n",
    "     clip1=[]\n",
    "except KeyError as err:\n",
    "     print(\"value in a dict using a invalid key\",err)\n",
    "\n",
    "\n",
    "for i in list2:\n",
    "     clip1.append(VideoFileClip(os.path.join(directory,i)))\n",
    "\n",
    "final_clip = concatenate_videoclips(clip1)\n",
    "final_clip.write_videofile(os.path.join(directory,\"my_concatenation.mp4\"))\n"
   ]
  },
  {
   "cell_type": "code",
   "execution_count": null,
   "metadata": {},
   "outputs": [],
   "source": []
  }
 ],
 "metadata": {
  "kernelspec": {
   "display_name": "Python 3",
   "language": "python",
   "name": "python3"
  },
  "language_info": {
   "codemirror_mode": {
    "name": "ipython",
    "version": 3
   },
   "file_extension": ".py",
   "mimetype": "text/x-python",
   "name": "python",
   "nbconvert_exporter": "python",
   "pygments_lexer": "ipython3",
   "version": "3.7.4"
  }
 },
 "nbformat": 4,
 "nbformat_minor": 2
}
